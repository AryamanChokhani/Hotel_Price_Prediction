{
 "cells": [
  {
   "cell_type": "code",
   "execution_count": 10,
   "metadata": {},
   "outputs": [],
   "source": [
    "import pandas as pd\n",
    "import numpy as np\n",
    "\n",
    "stars = [3, 5, 7]\n",
    "months_per_year = 12\n",
    "years = 10  \n",
    "\n",
    "dates = pd.date_range(end='2024-01-17', periods=months_per_year*years, freq='M')\n",
    "\n",
    "df_list = []\n",
    "\n",
    "for star in stars:\n",
    "    df = pd.DataFrame()\n",
    "    df['month'] = dates.month_name()\n",
    "    df['star'] = star\n",
    "\n",
    "    if(star==3):\n",
    "        df['price'] = np.random.randint(4000, 4500, size=len(dates))\n",
    "        star+=2\n",
    "\n",
    "    elif(star==5):\n",
    "        df['price'] = np.random.randint(13000, 13500, size=len(dates))\n",
    "        star+=2\n",
    "\n",
    "    elif(star==7):\n",
    "        df['price'] = np.random.randint(18000, 18500, size=len(dates))\n",
    "\n",
    "    df_list.append(df)\n",
    "\n",
    "final_df = pd.concat(df_list, ignore_index=True)\n",
    "\n",
    "final_df.to_csv('simla_hotel_prices.csv', index=False)"
   ]
  }
 ],
 "metadata": {
  "kernelspec": {
   "display_name": "Python 3",
   "language": "python",
   "name": "python3"
  },
  "language_info": {
   "codemirror_mode": {
    "name": "ipython",
    "version": 3
   },
   "file_extension": ".py",
   "mimetype": "text/x-python",
   "name": "python",
   "nbconvert_exporter": "python",
   "pygments_lexer": "ipython3",
   "version": "3.11.4"
  }
 },
 "nbformat": 4,
 "nbformat_minor": 2
}
